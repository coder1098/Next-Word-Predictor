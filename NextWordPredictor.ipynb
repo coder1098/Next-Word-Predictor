{
 "cells": [
  {
   "cell_type": "markdown",
   "metadata": {},
   "source": [
    "<a name=\"ilp\"></a>\n",
    "# Import necessary libraries and packages "
   ]
  },
  {
   "cell_type": "code",
   "execution_count": 1,
   "metadata": {
    "_cell_guid": "b1076dfc-b9ad-4769-8c92-a6c4dae69d19",
    "_uuid": "8f2839f25d086af736a60e9eeb907d3b93b6e0e5",
    "execution": {
     "iopub.execute_input": "2023-02-18T11:05:50.432505Z",
     "iopub.status.busy": "2023-02-18T11:05:50.431346Z",
     "iopub.status.idle": "2023-02-18T11:05:57.805680Z",
     "shell.execute_reply": "2023-02-18T11:05:57.804462Z",
     "shell.execute_reply.started": "2023-02-18T11:05:50.432323Z"
    }
   },
   "outputs": [],
   "source": [
    "import pandas as pd\n",
    "import os\n",
    "import numpy as np\n",
    "import keras\n",
    "import matplotlib.pyplot as plt\n",
    "import tensorflow as tf\n",
    "from keras.preprocessing.sequence import pad_sequences\n",
    "from keras.layers import Embedding, LSTM, Dense, Bidirectional\n",
    "from keras.preprocessing.text import Tokenizer\n",
    "from keras.models import Sequential\n",
    "from keras.optimizers import Adam"
   ]
  },
  {
   "cell_type": "markdown",
   "metadata": {},
   "source": [
    "<a name=\"di\"></a>\n",
    "# Dataset information\n",
    "\n",
    "**Import Medium-articles-dataset:**\n",
    "\n",
    "This dataset contains information about randomly chosen medium articles published in 2019 from these 7 publications:\n",
    "\n",
    "- Towards Data Science\n",
    "- UX Collective\n",
    "- The Startup\n",
    "- The Writing Cooperative\n",
    "- Data Driven Investor\n",
    "- Better Humans\n",
    "- Better Marketing\n"
   ]
  },
  {
   "cell_type": "code",
   "execution_count": 2,
   "metadata": {
    "execution": {
     "iopub.execute_input": "2023-02-18T11:07:43.575425Z",
     "iopub.status.busy": "2023-02-18T11:07:43.575018Z",
     "iopub.status.idle": "2023-02-18T11:07:43.690501Z",
     "shell.execute_reply": "2023-02-18T11:07:43.689232Z",
     "shell.execute_reply.started": "2023-02-18T11:07:43.575378Z"
    }
   },
   "outputs": [
    {
     "name": "stdout",
     "output_type": "stream",
     "text": [
      "Number of records:  6508\n",
      "Number of fields:  10\n"
     ]
    },
    {
     "data": {
      "text/plain": [
       "'A Beginner’s Guide to Word Embedding with Gensim Word2Vec\\xa0Model'"
      ]
     },
     "execution_count": 2,
     "metadata": {},
     "output_type": "execute_result"
    }
   ],
   "source": [
    "medium_data = pd.read_csv('medium_data.csv')\n",
    "medium_data.head()\n",
    "print(\"Number of records: \", medium_data.shape[0])\n",
    "print(\"Number of fields: \", medium_data.shape[1])\n",
    "medium_data['title'][0]"
   ]
  },
  {
   "cell_type": "markdown",
   "metadata": {},
   "source": []
  },
  {
   "cell_type": "markdown",
   "metadata": {},
   "source": [
    "Here, we have a **10 different fields and 6508 records** but we will only use **title field** for predicting next word. "
   ]
  },
  {
   "cell_type": "markdown",
   "metadata": {},
   "source": [
    "<a name=\"preprocess\"></a>\n",
    "# Display titles of various articles  and preprocess them"
   ]
  },
  {
   "cell_type": "markdown",
   "metadata": {},
   "source": [
    "<a name=\"remv\"></a>\n",
    "#### Removing unwanted characters and words in titles\n",
    "\n",
    "Looking at titles, we can see there are some of unwanted characters and words in it which can not be useful for us to predict infact it might decrease our model accuracy so we have to remove it."
   ]
  },
  {
   "cell_type": "code",
   "execution_count": 3,
   "metadata": {
    "execution": {
     "iopub.execute_input": "2023-02-18T11:07:45.764047Z",
     "iopub.status.busy": "2023-02-18T11:07:45.763600Z",
     "iopub.status.idle": "2023-02-18T11:07:45.778464Z",
     "shell.execute_reply": "2023-02-18T11:07:45.777084Z",
     "shell.execute_reply.started": "2023-02-18T11:07:45.764003Z"
    }
   },
   "outputs": [
    {
     "data": {
      "text/plain": [
       "0       A Beginner’s Guide to Word Embedding with Gens...\n",
       "1       Hands-on Graph Neural Networks with PyTorch & ...\n",
       "2                            How to Use ggplot2 in Python\n",
       "3       Databricks: How to Save Files in CSV on Your L...\n",
       "4       A Step-by-Step Implementation of Gradient Desc...\n",
       "                              ...                        \n",
       "6503    “We” vs “I” — How Should You Talk About Yourse...\n",
       "6504                     How Donald Trump Markets Himself\n",
       "6505        Content and Marketing Beyond Mass Consumption\n",
       "6506    5 Questions All Copywriters Should Ask Clients...\n",
       "6507               How To Write a Good Business Blog Post\n",
       "Name: title, Length: 6508, dtype: object"
      ]
     },
     "execution_count": 3,
     "metadata": {},
     "output_type": "execute_result"
    }
   ],
   "source": [
    "medium_data['title'] = medium_data['title'].apply(lambda x: x.replace(u'\\xa0',u' '))\n",
    "medium_data['title'] = medium_data['title'].apply(lambda x: x.replace('\\u200a',' '))\n",
    "medium_data['title']"
   ]
  },
  {
   "cell_type": "markdown",
   "metadata": {},
   "source": [
    "<a name=\"token\"></a>\n",
    "#### Tokenzation\n",
    "\n",
    "Tokenzaion is the process in which we provide an unique id to all the words and make a word index or we can say vocabulary."
   ]
  },
  {
   "cell_type": "markdown",
   "metadata": {},
   "source": []
  },
  {
   "cell_type": "code",
   "execution_count": 4,
   "metadata": {
    "execution": {
     "iopub.execute_input": "2023-02-18T11:07:47.534973Z",
     "iopub.status.busy": "2023-02-18T11:07:47.534579Z",
     "iopub.status.idle": "2023-02-18T11:07:47.671542Z",
     "shell.execute_reply": "2023-02-18T11:07:47.670485Z",
     "shell.execute_reply.started": "2023-02-18T11:07:47.534940Z"
    }
   },
   "outputs": [
    {
     "name": "stdout",
     "output_type": "stream",
     "text": [
      "Total number of words:  8238\n",
      "Word: ID\n",
      "------------\n",
      "<oov>:  1\n",
      "Strong:  4\n",
      "And:  8\n",
      "Consumption:  8237\n"
     ]
    }
   ],
   "source": [
    "tokenizer = Tokenizer(oov_token='<oov>')  # For words not found in word_index\n",
    "tokenizer.fit_on_texts(medium_data['title'])\n",
    "total_words = len(tokenizer.word_index) + 1\n",
    "\n",
    "print(\"Total number of words: \", total_words)\n",
    "print(\"Word: ID\")\n",
    "print(\"------------\")\n",
    "print(\"<oov>: \", tokenizer.word_index['<oov>'])\n",
    "print(\"Strong: \", tokenizer.word_index['strong'])\n",
    "print(\"And: \", tokenizer.word_index['and'])\n",
    "print(\"Consumption: \", tokenizer.word_index['consumption'])"
   ]
  },
  {
   "cell_type": "markdown",
   "metadata": {},
   "source": [
    "# Creating Input Sequences"
   ]
  },
  {
   "cell_type": "code",
   "execution_count": 5,
   "metadata": {
    "execution": {
     "iopub.execute_input": "2023-02-18T11:07:47.673435Z",
     "iopub.status.busy": "2023-02-18T11:07:47.672913Z",
     "iopub.status.idle": "2023-02-18T11:07:47.996752Z",
     "shell.execute_reply": "2023-02-18T11:07:47.995471Z",
     "shell.execute_reply.started": "2023-02-18T11:07:47.673397Z"
    }
   },
   "outputs": [
    {
     "name": "stdout",
     "output_type": "stream",
     "text": [
      "Total input sequences:  48461\n"
     ]
    },
    {
     "data": {
      "text/plain": [
       "[[5, 676],\n",
       " [5, 676, 68],\n",
       " [5, 676, 68, 2],\n",
       " [5, 676, 68, 2, 452],\n",
       " [5, 676, 68, 2, 452, 1518],\n",
       " [5, 676, 68, 2, 452, 1518, 14],\n",
       " [5, 676, 68, 2, 452, 1518, 14, 2455],\n",
       " [5, 676, 68, 2, 452, 1518, 14, 2455, 3653],\n",
       " [5, 676, 68, 2, 452, 1518, 14, 2455, 3653, 99],\n",
       " [1858, 23]]"
      ]
     },
     "execution_count": 5,
     "metadata": {},
     "output_type": "execute_result"
    }
   ],
   "source": [
    "input_sequences = []\n",
    "for line in medium_data['title']:\n",
    "    token_list = tokenizer.texts_to_sequences([line])[0]\n",
    "    for i in range(1, len(token_list)):\n",
    "        n_gram_sequence = token_list[:i+1]\n",
    "        input_sequences.append(n_gram_sequence)\n",
    "\n",
    "print(\"Total input sequences: \", len(input_sequences))\n",
    "input_sequences[:10]"
   ]
  },
  {
   "cell_type": "markdown",
   "metadata": {},
   "source": [
    "<a name=\"pad\"></a>\n",
    "#### Make all titles with same length by using padding\n",
    "\n",
    "The length of every title has to be the same. To make it, we need to find a title that has a maximum length, and based on that length, we have to pad rest of titles."
   ]
  },
  {
   "cell_type": "code",
   "execution_count": 6,
   "metadata": {
    "execution": {
     "iopub.execute_input": "2023-02-18T11:07:48.125806Z",
     "iopub.status.busy": "2023-02-18T11:07:48.125208Z",
     "iopub.status.idle": "2023-02-18T11:07:48.353748Z",
     "shell.execute_reply": "2023-02-18T11:07:48.352419Z",
     "shell.execute_reply.started": "2023-02-18T11:07:48.125767Z"
    }
   },
   "outputs": [
    {
     "data": {
      "text/plain": [
       "array([[   0,    0,    0,    0,    0,    0,    0,    0,    0,    0,    0,\n",
       "           0,    0,    0,    0,    0,    0,    0,    0,    0,    0,    0,\n",
       "           0,    0,    0,    0,    0,    0,    0,    0,    0,    0,    0,\n",
       "           0,    0,    0,    0,    5,  676,   68],\n",
       "       [   0,    0,    0,    0,    0,    0,    0,    0,    0,    0,    0,\n",
       "           0,    0,    0,    0,    0,    0,    0,    0,    0,    0,    0,\n",
       "           0,    0,    0,    0,    0,    0,    0,    0,    0,    0,    0,\n",
       "           0,    0,    0,    5,  676,   68,    2],\n",
       "       [   0,    0,    0,    0,    0,    0,    0,    0,    0,    0,    0,\n",
       "           0,    0,    0,    0,    0,    0,    0,    0,    0,    0,    0,\n",
       "           0,    0,    0,    0,    0,    0,    0,    0,    0,    0,    0,\n",
       "           0,    0,    5,  676,   68,    2,  452],\n",
       "       [   0,    0,    0,    0,    0,    0,    0,    0,    0,    0,    0,\n",
       "           0,    0,    0,    0,    0,    0,    0,    0,    0,    0,    0,\n",
       "           0,    0,    0,    0,    0,    0,    0,    0,    0,    0,    0,\n",
       "           0,    5,  676,   68,    2,  452, 1518],\n",
       "       [   0,    0,    0,    0,    0,    0,    0,    0,    0,    0,    0,\n",
       "           0,    0,    0,    0,    0,    0,    0,    0,    0,    0,    0,\n",
       "           0,    0,    0,    0,    0,    0,    0,    0,    0,    0,    0,\n",
       "           5,  676,   68,    2,  452, 1518,   14],\n",
       "       [   0,    0,    0,    0,    0,    0,    0,    0,    0,    0,    0,\n",
       "           0,    0,    0,    0,    0,    0,    0,    0,    0,    0,    0,\n",
       "           0,    0,    0,    0,    0,    0,    0,    0,    0,    0,    5,\n",
       "         676,   68,    2,  452, 1518,   14, 2455],\n",
       "       [   0,    0,    0,    0,    0,    0,    0,    0,    0,    0,    0,\n",
       "           0,    0,    0,    0,    0,    0,    0,    0,    0,    0,    0,\n",
       "           0,    0,    0,    0,    0,    0,    0,    0,    0,    5,  676,\n",
       "          68,    2,  452, 1518,   14, 2455, 3653],\n",
       "       [   0,    0,    0,    0,    0,    0,    0,    0,    0,    0,    0,\n",
       "           0,    0,    0,    0,    0,    0,    0,    0,    0,    0,    0,\n",
       "           0,    0,    0,    0,    0,    0,    0,    0,    5,  676,   68,\n",
       "           2,  452, 1518,   14, 2455, 3653,   99],\n",
       "       [   0,    0,    0,    0,    0,    0,    0,    0,    0,    0,    0,\n",
       "           0,    0,    0,    0,    0,    0,    0,    0,    0,    0,    0,\n",
       "           0,    0,    0,    0,    0,    0,    0,    0,    0,    0,    0,\n",
       "           0,    0,    0,    0,    0, 1858,   23]])"
      ]
     },
     "execution_count": 6,
     "metadata": {},
     "output_type": "execute_result"
    }
   ],
   "source": [
    "max_sequence_len = max([len(x) for x in input_sequences])\n",
    "input_sequences = np.array(pad_sequences(input_sequences, maxlen=max_sequence_len, padding='pre'))\n",
    "input_sequences[1]\n",
    "input_sequences[1:10]"
   ]
  },
  {
   "cell_type": "markdown",
   "metadata": {},
   "source": [
    "<a name=\"xy\"></a>\n",
    "# Prepare features and labels\n",
    "\n",
    "Here, we consider **last element of all sequences as a label**.Then,\n",
    "We need to perform **onehot encoding on labels corresponding to total_words.**"
   ]
  },
  {
   "cell_type": "code",
   "execution_count": 7,
   "metadata": {
    "execution": {
     "iopub.execute_input": "2023-02-18T11:09:14.983308Z",
     "iopub.status.busy": "2023-02-18T11:09:14.982909Z",
     "iopub.status.idle": "2023-02-18T11:09:15.167233Z",
     "shell.execute_reply": "2023-02-18T11:09:15.166187Z",
     "shell.execute_reply.started": "2023-02-18T11:09:14.983274Z"
    }
   },
   "outputs": [
    {
     "name": "stdout",
     "output_type": "stream",
     "text": [
      "[   0    0    0    0    0    0    0    0    0    0    0    0    0    0\n",
      "    0    0    0    0    0    0    0    0    0    0    0    0    0    0\n",
      "    0    0    0    0    0    5  676   68    2  452 1518]\n",
      "14\n",
      "1.0\n",
      "[0. 0. 0. ... 0. 0. 0.]\n"
     ]
    }
   ],
   "source": [
    "xs, labels = input_sequences[:,:-1], input_sequences[:,-1]\n",
    "ys = tf.keras.utils.to_categorical(labels, num_classes=total_words)\n",
    "print(xs[5])\n",
    "print(labels[5])\n",
    "print(ys[5][14])\n",
    "print(ys[5])"
   ]
  },
  {
   "cell_type": "markdown",
   "metadata": {},
   "source": [
    "<a name=\"train\"></a>\n",
    "# Bi- LSTM Neural Network Model training"
   ]
  },
  {
   "cell_type": "code",
   "execution_count": 8,
   "metadata": {},
   "outputs": [
    {
     "name": "stderr",
     "output_type": "stream",
     "text": [
      "WARNING:absl:`lr` is deprecated in Keras optimizer, please use `learning_rate` or use the legacy optimizer, e.g.,tf.keras.optimizers.legacy.Adam.\n"
     ]
    }
   ],
   "source": [
    "model = Sequential()\n",
    "model.add(Embedding(total_words, 100, input_length=max_sequence_len-1))\n",
    "model.add(Bidirectional(LSTM(150)))\n",
    "model.add(Dense(total_words, activation='softmax'))\n",
    "adam = Adam(lr=0.01)\n",
    "model.compile(loss='categorical_crossentropy', optimizer=adam, metrics=['accuracy'])"
   ]
  },
  {
   "cell_type": "code",
   "execution_count": 21,
   "metadata": {
    "execution": {
     "iopub.execute_input": "2023-02-18T11:09:55.532728Z",
     "iopub.status.busy": "2023-02-18T11:09:55.531955Z"
    }
   },
   "outputs": [
    {
     "name": "stderr",
     "output_type": "stream",
     "text": [
      "WARNING:absl:`lr` is deprecated in Keras optimizer, please use `learning_rate` or use the legacy optimizer, e.g.,tf.keras.optimizers.legacy.Adam.\n"
     ]
    },
    {
     "name": "stdout",
     "output_type": "stream",
     "text": [
      "Epoch 1/50\n",
      "1515/1515 [==============================] - 243s 157ms/step - loss: 6.9857 - accuracy: 0.0859\n",
      "Epoch 2/50\n",
      "1515/1515 [==============================] - 217s 144ms/step - loss: 6.1542 - accuracy: 0.1410\n",
      "Epoch 3/50\n",
      "1515/1515 [==============================] - 153s 101ms/step - loss: 5.6346 - accuracy: 0.1683\n",
      "Epoch 4/50\n",
      "1515/1515 [==============================] - 152s 100ms/step - loss: 5.1713 - accuracy: 0.1912\n",
      "Epoch 5/50\n",
      "1515/1515 [==============================] - 164s 108ms/step - loss: 4.7284 - accuracy: 0.2138\n",
      "Epoch 6/50\n",
      "1515/1515 [==============================] - 176s 116ms/step - loss: 4.3102 - accuracy: 0.2452\n",
      "Epoch 7/50\n",
      "1515/1515 [==============================] - 161s 106ms/step - loss: 3.9111 - accuracy: 0.2854\n",
      "Epoch 8/50\n",
      "1515/1515 [==============================] - 161s 106ms/step - loss: 3.5362 - accuracy: 0.3336\n",
      "Epoch 9/50\n",
      "1515/1515 [==============================] - 147s 97ms/step - loss: 3.1868 - accuracy: 0.3875\n",
      "Epoch 10/50\n",
      "1515/1515 [==============================] - 161s 107ms/step - loss: 2.8684 - accuracy: 0.4440\n",
      "Epoch 11/50\n",
      "1515/1515 [==============================] - 165s 109ms/step - loss: 2.5847 - accuracy: 0.4914\n",
      "Epoch 12/50\n",
      "1515/1515 [==============================] - 161s 106ms/step - loss: 2.3297 - accuracy: 0.5396\n",
      "Epoch 13/50\n",
      "1515/1515 [==============================] - 149s 98ms/step - loss: 2.1059 - accuracy: 0.5829\n",
      "Epoch 14/50\n",
      "1515/1515 [==============================] - 149s 98ms/step - loss: 1.9060 - accuracy: 0.6221\n",
      "Epoch 15/50\n",
      "1515/1515 [==============================] - 153s 101ms/step - loss: 1.7301 - accuracy: 0.6572\n",
      "Epoch 16/50\n",
      "1515/1515 [==============================] - 152s 100ms/step - loss: 1.5745 - accuracy: 0.6870\n",
      "Epoch 17/50\n",
      "1515/1515 [==============================] - 149s 98ms/step - loss: 1.4364 - accuracy: 0.7156\n",
      "Epoch 18/50\n",
      "1515/1515 [==============================] - 152s 100ms/step - loss: 1.3171 - accuracy: 0.7389\n",
      "Epoch 19/50\n",
      "1515/1515 [==============================] - 152s 100ms/step - loss: 1.2122 - accuracy: 0.7583\n",
      "Epoch 20/50\n",
      "1515/1515 [==============================] - 152s 101ms/step - loss: 1.1230 - accuracy: 0.7768\n",
      "Epoch 21/50\n",
      "1515/1515 [==============================] - 153s 101ms/step - loss: 1.0444 - accuracy: 0.7909\n",
      "Epoch 22/50\n",
      "1515/1515 [==============================] - 154s 102ms/step - loss: 0.9765 - accuracy: 0.8008\n",
      "Epoch 23/50\n",
      "1515/1515 [==============================] - 154s 102ms/step - loss: 0.9180 - accuracy: 0.8123\n",
      "Epoch 24/50\n",
      "1515/1515 [==============================] - 156s 103ms/step - loss: 0.8687 - accuracy: 0.8224\n",
      "Epoch 25/50\n",
      "1515/1515 [==============================] - 156s 103ms/step - loss: 0.8258 - accuracy: 0.8283\n",
      "Epoch 26/50\n",
      "1515/1515 [==============================] - 157s 103ms/step - loss: 0.7894 - accuracy: 0.8332\n",
      "Epoch 27/50\n",
      "1515/1515 [==============================] - 154s 102ms/step - loss: 0.7576 - accuracy: 0.8382\n",
      "Epoch 28/50\n",
      "1515/1515 [==============================] - 155s 102ms/step - loss: 0.7313 - accuracy: 0.8421\n",
      "Epoch 29/50\n",
      "1515/1515 [==============================] - 154s 102ms/step - loss: 0.7101 - accuracy: 0.8450\n",
      "Epoch 30/50\n",
      "1515/1515 [==============================] - 157s 104ms/step - loss: 0.6891 - accuracy: 0.8477\n",
      "Epoch 31/50\n",
      "1515/1515 [==============================] - 162s 107ms/step - loss: 0.6737 - accuracy: 0.8481\n",
      "Epoch 32/50\n",
      "1515/1515 [==============================] - 240s 159ms/step - loss: 0.6594 - accuracy: 0.8503\n",
      "Epoch 33/50\n",
      "1515/1515 [==============================] - 258s 170ms/step - loss: 0.6484 - accuracy: 0.8510\n",
      "Epoch 34/50\n",
      "1515/1515 [==============================] - 256s 169ms/step - loss: 0.6359 - accuracy: 0.8521\n",
      "Epoch 35/50\n",
      "1515/1515 [==============================] - 252s 166ms/step - loss: 0.6281 - accuracy: 0.8528\n",
      "Epoch 36/50\n",
      "1515/1515 [==============================] - 248s 164ms/step - loss: 0.6210 - accuracy: 0.8534\n",
      "Epoch 37/50\n",
      "1515/1515 [==============================] - 254s 167ms/step - loss: 0.6146 - accuracy: 0.8524\n",
      "Epoch 38/50\n",
      "1515/1515 [==============================] - 252s 167ms/step - loss: 0.6068 - accuracy: 0.8538\n",
      "Epoch 39/50\n",
      "1515/1515 [==============================] - 254s 167ms/step - loss: 0.6005 - accuracy: 0.8550\n",
      "Epoch 40/50\n",
      "1515/1515 [==============================] - 252s 166ms/step - loss: 0.5964 - accuracy: 0.8540\n",
      "Epoch 41/50\n",
      "1515/1515 [==============================] - 246s 163ms/step - loss: 0.5921 - accuracy: 0.8551\n",
      "Epoch 42/50\n",
      "1515/1515 [==============================] - 252s 166ms/step - loss: 0.5909 - accuracy: 0.8538\n",
      "Epoch 43/50\n",
      "1515/1515 [==============================] - 253s 167ms/step - loss: 0.5840 - accuracy: 0.8553\n",
      "Epoch 44/50\n",
      "1515/1515 [==============================] - 254s 167ms/step - loss: 0.5827 - accuracy: 0.8549\n",
      "Epoch 45/50\n",
      "1515/1515 [==============================] - 247s 163ms/step - loss: 0.5788 - accuracy: 0.8556\n",
      "Epoch 46/50\n",
      "1515/1515 [==============================] - 249s 165ms/step - loss: 0.5761 - accuracy: 0.8559\n",
      "Epoch 47/50\n",
      "1515/1515 [==============================] - 255s 168ms/step - loss: 0.5746 - accuracy: 0.8551\n",
      "Epoch 48/50\n",
      "1515/1515 [==============================] - 254s 168ms/step - loss: 0.5713 - accuracy: 0.8553\n",
      "Epoch 49/50\n",
      "1515/1515 [==============================] - 258s 170ms/step - loss: 0.5690 - accuracy: 0.8559\n",
      "Epoch 50/50\n",
      "1515/1515 [==============================] - 262s 173ms/step - loss: 0.5683 - accuracy: 0.8555\n"
     ]
    }
   ],
   "source": [
    "history =  model.fit(xs, ys, epochs=50)"
   ]
  },
  {
   "cell_type": "code",
   "execution_count": 31,
   "metadata": {},
   "outputs": [
    {
     "data": {
      "text/plain": [
       "['model.pkl']"
      ]
     },
     "execution_count": 31,
     "metadata": {},
     "output_type": "execute_result"
    }
   ],
   "source": [
    "import joblib\n",
    "joblib.dump(model, 'model.pkl')"
   ]
  },
  {
   "cell_type": "markdown",
   "metadata": {},
   "source": [
    "<a name=\"acc\"></a>\n",
    "# Plotting model accuracy and loss"
   ]
  },
  {
   "cell_type": "code",
   "execution_count": 18,
   "metadata": {},
   "outputs": [],
   "source": [
    "model = tf.keras.models.load_model('nextwordpredictor.h5')"
   ]
  },
  {
   "cell_type": "code",
   "execution_count": 29,
   "metadata": {
    "execution": {
     "iopub.execute_input": "2021-08-15T06:22:51.092945Z",
     "iopub.status.busy": "2021-08-15T06:22:51.092692Z",
     "iopub.status.idle": "2021-08-15T06:22:51.097521Z",
     "shell.execute_reply": "2021-08-15T06:22:51.096585Z",
     "shell.execute_reply.started": "2021-08-15T06:22:51.092921Z"
    }
   },
   "outputs": [
    {
     "data": {
      "image/png": "[encoded data removed]",
      "text/plain": [
       "<Figure size 640x480 with 1 Axes>"
      ]
     },
     "metadata": {},
     "output_type": "display_data"
    },
    {
     "data": {
      "image/png": "[encoded data removed]",
      "text/plain": [
       "<Figure size 640x480 with 1 Axes>"
      ]
     },
     "metadata": {},
     "output_type": "display_data"
    }
   ],
   "source": [
    "def plot_graphs(history, string):\n",
    "    plt.plot(history.history[string])\n",
    "    plt.xlabel(\"Epochs\")\n",
    "    plt.ylabel(string)\n",
    "    plt.show()\n",
    "\n",
    "plot_graphs(history, 'accuracy')\n",
    "plot_graphs(history, 'loss')\n"
   ]
  },
  {
   "cell_type": "markdown",
   "metadata": {},
   "source": [
    "<a name=\"new\"></a>\n",
    "# Predicting next word of title"
   ]
  },
  {
   "cell_type": "code",
   "execution_count": 30,
   "metadata": {
    "execution": {
     "iopub.execute_input": "2021-08-15T06:22:51.380838Z",
     "iopub.status.busy": "2021-08-15T06:22:51.380501Z",
     "iopub.status.idle": "2021-08-15T06:22:52.015269Z",
     "shell.execute_reply": "2021-08-15T06:22:52.014289Z",
     "shell.execute_reply.started": "2021-08-15T06:22:51.380802Z"
    }
   },
   "outputs": [
    {
     "name": "stdout",
     "output_type": "stream",
     "text": [
      "Akshat is the ux\n"
     ]
    }
   ],
   "source": [
    "seed_text = \"Akshat is\"\n",
    "next_words = 2\n",
    "\n",
    "for _ in range(next_words):\n",
    "    token_list = tokenizer.texts_to_sequences([seed_text])[0]\n",
    "    token_list = pad_sequences([token_list], maxlen=max_sequence_len-1, padding='pre')\n",
    "    predicted_probs = model.predict(token_list, verbose=0)[0]\n",
    "    predicted_index = np.argmax(predicted_probs)\n",
    "    output_word = \"\"\n",
    "    for word, index in tokenizer.word_index.items():\n",
    "        if index == predicted_index:\n",
    "            output_word = word\n",
    "            break\n",
    "    seed_text += \" \" + output_word\n",
    "\n",
    "print(seed_text)"
   ]
  },
  {
   "cell_type": "code",
   "execution_count": null,
   "metadata": {},
   "outputs": [],
   "source": []
  },
  {
   "cell_type": "code",
   "execution_count": null,
   "metadata": {},
   "outputs": [],
   "source": []
  },
  {
   "cell_type": "code",
   "execution_count": null,
   "metadata": {},
   "outputs": [],
   "source": []
  },
  {
   "cell_type": "code",
   "execution_count": null,
   "metadata": {},
   "outputs": [],
   "source": []
  },
  {
   "cell_type": "code",
   "execution_count": null,
   "metadata": {},
   "outputs": [],
   "source": []
  }
 ],
 "metadata": {
  "kernelspec": {
   "display_name": "Python 3 (ipykernel)",
   "language": "python",
   "name": "python3"
  },
  "language_info": {
   "codemirror_mode": {
    "name": "ipython",
    "version": 3
   },
   "file_extension": ".py",
   "mimetype": "text/x-python",
   "name": "python",
   "nbconvert_exporter": "python",
   "pygments_lexer": "ipython3",
   "version": "3.11.4"
  }
 },
 "nbformat": 4,
 "nbformat_minor": 4
}
